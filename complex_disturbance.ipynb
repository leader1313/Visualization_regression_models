{
 "cells": [
  {
   "cell_type": "code",
   "execution_count": 12,
   "metadata": {},
   "outputs": [],
   "source": [
    "from Models import IOMHGP, GaussianKernel\n",
    "from ToyPrograms import MultimodalHeteroToy\n",
    "import matplotlib.pyplot as plt\n",
    "import torch\n",
    "import numpy as np"
   ]
  },
  {
   "cell_type": "code",
   "execution_count": 13,
   "metadata": {},
   "outputs": [],
   "source": [
    "toy = MultimodalHeteroToy(N=100, M=2, name=\"complex\")\n",
    "X, Y = toy.X_train, toy.Y_train\n",
    "mm, ss = toy.mm_true, toy.ss_true\n",
    "M = toy.M"
   ]
  },
  {
   "cell_type": "code",
   "execution_count": 14,
   "metadata": {},
   "outputs": [],
   "source": [
    "# Import learning model\n",
    "fkern = GaussianKernel()\n",
    "gkern = GaussianKernel()\n",
    "model = IOMHGP(\n",
    "    X.view(-1).unsqueeze(1),\n",
    "    Y.view(-1).unsqueeze(1),\n",
    "    fkern, gkern,\n",
    "    M=10,\n",
    ")\n",
    "model.learning(max_iter=10)"
   ]
  },
  {
   "cell_type": "code",
   "execution_count": null,
   "metadata": {},
   "outputs": [
    {
     "ename": "NameError",
     "evalue": "name 'np' is not defined",
     "output_type": "error",
     "traceback": [
      "\u001b[0;31m---------------------------------------------------------------------------\u001b[0m",
      "\u001b[0;31mNameError\u001b[0m                                 Traceback (most recent call last)",
      "\u001b[0;32m<ipython-input-11-3cb92665e4ae>\u001b[0m in \u001b[0;36m<module>\u001b[0;34m\u001b[0m\n\u001b[1;32m      8\u001b[0m \u001b[0;34m\u001b[0m\u001b[0m\n\u001b[1;32m      9\u001b[0m \u001b[0mmean\u001b[0m \u001b[0;34m=\u001b[0m \u001b[0mmean\u001b[0m\u001b[0;34m.\u001b[0m\u001b[0mdetach\u001b[0m\u001b[0;34m(\u001b[0m\u001b[0;34m)\u001b[0m\u001b[0;34m.\u001b[0m\u001b[0mnumpy\u001b[0m\u001b[0;34m(\u001b[0m\u001b[0;34m)\u001b[0m\u001b[0;34m\u001b[0m\u001b[0;34m\u001b[0m\u001b[0m\n\u001b[0;32m---> 10\u001b[0;31m \u001b[0mvar\u001b[0m \u001b[0;34m=\u001b[0m \u001b[0mnp\u001b[0m\u001b[0;34m.\u001b[0m\u001b[0msqrt\u001b[0m\u001b[0;34m(\u001b[0m\u001b[0mvar\u001b[0m\u001b[0;34m.\u001b[0m\u001b[0mdetach\u001b[0m\u001b[0;34m(\u001b[0m\u001b[0;34m)\u001b[0m\u001b[0;34m.\u001b[0m\u001b[0mnumpy\u001b[0m\u001b[0;34m(\u001b[0m\u001b[0;34m)\u001b[0m\u001b[0;34m)\u001b[0m\u001b[0;34m\u001b[0m\u001b[0;34m\u001b[0m\u001b[0m\n\u001b[0m\u001b[1;32m     11\u001b[0m \u001b[0mxx\u001b[0m \u001b[0;34m=\u001b[0m \u001b[0mxx\u001b[0m\u001b[0;34m.\u001b[0m\u001b[0mnumpy\u001b[0m\u001b[0;34m(\u001b[0m\u001b[0;34m)\u001b[0m\u001b[0;34m.\u001b[0m\u001b[0mravel\u001b[0m\u001b[0;34m(\u001b[0m\u001b[0;34m)\u001b[0m\u001b[0;34m\u001b[0m\u001b[0;34m\u001b[0m\u001b[0m\n\u001b[1;32m     12\u001b[0m \u001b[0;34m\u001b[0m\u001b[0m\n",
      "\u001b[0;31mNameError\u001b[0m: name 'np' is not defined"
     ]
    }
   ],
   "source": [
    "X = X.numpy().ravel()\n",
    "Y = Y.numpy().ravel()\n",
    "M = model.M\n",
    "\n",
    "# Test data\n",
    "xx = torch.linspace(min(X), max(X), 100)[:, None]\n",
    "mean, var, _ = model.predict(xx)\n",
    "\n",
    "mean = mean.detach().numpy()\n",
    "var = np.sqrt(var.detach().numpy())\n",
    "xx = xx.numpy().ravel()\n",
    "\n",
    "plt.figure(figsize=(10, 5))\n",
    "\n",
    "for m in range(M):\n",
    "    mm = mean[m].ravel()\n",
    "    vv = var[m].ravel()\n",
    "    line = plt.plot(xx, mm, label=\"Learned Policy\",\n",
    "                    linewidth=1, color=\"#348ABD\")\n",
    "    plt.fill_between(xx, mm + vv, mm - vv,\n",
    "                        color=line[0].get_color(), alpha=0.2)\n",
    "\n",
    "data_point = plt.plot(\n",
    "    X, Y, \"*\", markersize=5, label=\"Training Set\", color=\"#E24A33\"\n",
    ")\n",
    "plt.xlabel(\"X\", fontsize=30)\n",
    "plt.ylabel(\"Y\", fontsize=30)\n",
    "\n",
    "plt.show()"
   ]
  },
  {
   "cell_type": "code",
   "execution_count": null,
   "metadata": {},
   "outputs": [],
   "source": []
  }
 ],
 "metadata": {
  "interpreter": {
   "hash": "b2ed33ca12bab59d7baca037903e818ec5b5d3097cc538ac3a6e8184f5eda77a"
  },
  "kernelspec": {
   "display_name": "Python 3.8.3 64-bit ('3.8.3': pyenv)",
   "name": "python3"
  },
  "language_info": {
   "codemirror_mode": {
    "name": "ipython",
    "version": 3
   },
   "file_extension": ".py",
   "mimetype": "text/x-python",
   "name": "python",
   "nbconvert_exporter": "python",
   "pygments_lexer": "ipython3",
   "version": "3.8.3"
  },
  "orig_nbformat": 4
 },
 "nbformat": 4,
 "nbformat_minor": 2
}